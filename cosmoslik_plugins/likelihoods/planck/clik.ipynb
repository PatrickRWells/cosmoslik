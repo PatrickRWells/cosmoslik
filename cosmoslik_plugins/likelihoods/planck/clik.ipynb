{
 "cells": [
  {
   "cell_type": "markdown",
   "metadata": {},
   "source": [
    "# Planck (via `clik`)"
   ]
  },
  {
   "cell_type": "markdown",
   "metadata": {},
   "source": [
    "This plugin is an interface between the Planck likelihood code `clik` and CosmoSlik. You need `clik` already installed on your machine, which you can get from [here](http://irsa.ipac.caltech.edu/data/Planck/release_2/software/COM_Likelihood_Code-v2.0.R2.00.tar.bz2). \n",
    "\n",
    "You also need to download the \"`clik` files\" for whichever likelihoods you would like to use. You can find these [here](http://irsa.ipac.caltech.edu/data/Planck/release_2/software/index.html) under \"Likelihoods\" / \"Notes\". "
   ]
  },
  {
   "cell_type": "markdown",
   "metadata": {},
   "source": [
    "## Quickstart"
   ]
  },
  {
   "cell_type": "markdown",
   "metadata": {},
   "source": [
    "CosmoSlik provides several plugins which wrap `clik` and have all the necessary nuisance parameters set up for particular data files. You can use them in your script by adding something like the following to your `__init__`, \n",
    "\n",
    "```python\n",
    "# set up cosmological params and solver\n",
    "self.cosmo = models.cosmology(\"lcdm\")\n",
    "self.cmb = models.classy()\n",
    "\n",
    "# load Planck clik file and set up nuisance parameters\n",
    "self.clik = likelihoods.planck.planck_2015_highl_TT(\n",
    "    clik_file=\"plik_dx11dr2_HM_v18_TT.clik/\",\n",
    ")\n",
    "```\n",
    "\n",
    "then compute the likelihood in `__call__` by calling `clik` with a parameter `cmb` of the kind returned by `CAMB` or `CLASS`,\n",
    "\n",
    "```python\n",
    "# compute likelihood\n",
    "self.clik(self.cmb(**self.cosmo))\n",
    "```"
   ]
  },
  {
   "cell_type": "markdown",
   "metadata": {},
   "source": [
    "## The generic `clik` wrapper"
   ]
  },
  {
   "cell_type": "markdown",
   "metadata": {},
   "source": [
    "Using the `SlikPlugin` named `clik`, we can load up any generic `clik` file. Supposing we've downloaded the file `plik_lite_v18_TT.clik`, we can load it in via,"
   ]
  },
  {
   "cell_type": "code",
   "execution_count": 1,
   "metadata": {
    "collapsed": false
   },
   "outputs": [
    {
     "name": "stdout",
     "output_type": "stream",
     "text": [
      "Populating the interactive namespace from numpy and matplotlib\n"
     ]
    }
   ],
   "source": [
    "%pylab inline\n",
    "sys.path = sys.path[1:]\n",
    "from cosmoslik import *"
   ]
  },
  {
   "cell_type": "code",
   "execution_count": 2,
   "metadata": {
    "collapsed": false
   },
   "outputs": [
    {
     "data": {
      "text/plain": [
       "{'A_Planck': 1,\n",
       " 'auto_reject_errors': False,\n",
       " 'clik': <clik.lkl.clik at 0x7f03a8eda510>}"
      ]
     },
     "execution_count": 2,
     "metadata": {},
     "output_type": "execute_result"
    }
   ],
   "source": [
    "clik = likelihoods.planck.clik(\n",
    "    clik_file=\"plik_lite_v18_TT.clik/\",\n",
    "    A_Planck=1\n",
    ")\n",
    "clik"
   ]
  },
  {
   "cell_type": "markdown",
   "metadata": {},
   "source": [
    "Note that we gave it a parameter `A_Planck`. Most `clik` files have extra nuisance parameters, which you can list (for a given file) with,"
   ]
  },
  {
   "cell_type": "code",
   "execution_count": 3,
   "metadata": {
    "collapsed": false
   },
   "outputs": [
    {
     "data": {
      "text/plain": [
       "('A_Planck',)"
      ]
     },
     "execution_count": 3,
     "metadata": {},
     "output_type": "execute_result"
    }
   ],
   "source": [
    "clik.clik.get_extra_parameter_names()"
   ]
  },
  {
   "cell_type": "markdown",
   "metadata": {},
   "source": [
    "You should attach parametes with these names to the `clik` object as we have done above (usually in a script these will be sampled parameters). \n",
    "\n",
    "With the `clik` object created, we can call it to compute the likelihood. The function expects a parameter `cmb` of the kind returned by `CAMB` or `CLASS`."
   ]
  },
  {
   "cell_type": "code",
   "execution_count": 4,
   "metadata": {
    "collapsed": false
   },
   "outputs": [
    {
     "data": {
      "text/plain": [
       "{'BB': array([  0.00000000e+00,   0.00000000e+00,   1.77707779e-06, ...,\n",
       "          1.41341956e-02,   1.41160893e-02,   1.40979982e-02]),\n",
       " 'EE': array([ 0.        ,  0.        ,  0.05413355, ...,  0.92829409,\n",
       "         0.92452331,  0.92077857]),\n",
       " 'PP': array([  0.00000000e+00,   0.00000000e+00,   6.55525164e+04, ...,\n",
       "          4.37564298e-04,   4.36858020e-04,   4.36153030e-04]),\n",
       " 'TE': array([ 0.        ,  0.        ,  3.57593976, ..., -1.57751022,\n",
       "        -1.57159761, -1.56562643]),\n",
       " 'TP': array([  0.00000000e+00,   0.00000000e+00,   3.60597308e+03, ...,\n",
       "          4.68131564e-05,   4.67227124e-05,   4.66374675e-05]),\n",
       " 'TT': array([    0.        ,     0.        ,  1110.41116627, ...,    26.09287144,\n",
       "           26.04596539,    25.99892254])}"
      ]
     },
     "execution_count": 4,
     "metadata": {},
     "output_type": "execute_result"
    }
   ],
   "source": [
    "cmb = models.classy(lmax=3000)()\n",
    "cmb"
   ]
  },
  {
   "cell_type": "markdown",
   "metadata": {},
   "source": [
    "Here's the negative log likelihood:"
   ]
  },
  {
   "cell_type": "code",
   "execution_count": 5,
   "metadata": {
    "collapsed": false
   },
   "outputs": [
    {
     "data": {
      "text/plain": [
       "201.12250756838722"
      ]
     },
     "execution_count": 5,
     "metadata": {},
     "output_type": "execute_result"
    }
   ],
   "source": [
    "clik(cmb)"
   ]
  },
  {
   "cell_type": "markdown",
   "metadata": {
    "collapsed": true
   },
   "source": [
    "Putting it all together, a simple script which runs this likelihood would look like:"
   ]
  },
  {
   "cell_type": "code",
   "execution_count": 6,
   "metadata": {
    "collapsed": false
   },
   "outputs": [],
   "source": [
    "class planck(SlikPlugin):\n",
    "\n",
    "    def __init__(self, **kwargs):\n",
    "        super().__init__()\n",
    "        \n",
    "        # load Planck clik file and set up nuisance parameters\n",
    "        self.clik = likelihoods.planck.clik(\n",
    "            clik_file=\"plik_lite_v18_TT.clik/\",\n",
    "            \n",
    "            # sample over nuisance parameter\n",
    "            A_Planck=param(start=1, scale=0.0025, gaussian_prior=(1,0.0025))\n",
    "        )\n",
    "        \n",
    "        # set up cosmological params and solver\n",
    "        self.cosmo = models.cosmology(\"lcdm\")\n",
    "        self.cmb = models.classy(lmax=3000)\n",
    "        \n",
    "        self.sampler = samplers.metropolis_hastings(self)\n",
    "\n",
    "    def __call__(self):\n",
    "        # compute likelihood\n",
    "        return self.clik(self.cmb(**self.cosmo))"
   ]
  },
  {
   "cell_type": "code",
   "execution_count": 7,
   "metadata": {
    "collapsed": false
   },
   "outputs": [
    {
     "data": {
      "text/plain": [
       "956.87241321269414"
      ]
     },
     "execution_count": 7,
     "metadata": {},
     "output_type": "execute_result"
    }
   ],
   "source": [
    "s = Slik(planck())\n",
    "lnl, e = s.evaluate(**s.get_start())\n",
    "lnl"
   ]
  },
  {
   "cell_type": "markdown",
   "metadata": {},
   "source": [
    "## Ready-to-go wrappers for specific `clik` files"
   ]
  },
  {
   "cell_type": "markdown",
   "metadata": {},
   "source": [
    "The previous example was easy because there was one single nuisance parameter, `A_Planck`. Other `clik` files have many more nuisance parameters, which must all be sampled over and in some cases have the right priors applied (which you can read about [here](https://wiki.cosmos.esa.int/planckpla2015/index.php/CMB_spectrum_%26_Likelihood_Code)), otherwise you will not get the right answer. \n",
    "\n",
    "This is, of course, a huge pain. \n",
    "\n",
    "For this reason, CosmoSlik comes with several SlikPlugins already containing the correct sampled nuisance parameters for many of these `clik` files, making writing a script extremely easy. For example, here is the source code for one such plugin, `planck_2015_highl_TT`:\n",
    "\n",
    "```python\n",
    "param = param_shortcut('start','scale')\n",
    "\n",
    "class planck_2015_highl_TT(clik):\n",
    "    \n",
    "    def __init__(\n",
    "        self,\n",
    "        clik_file,\n",
    "        A_cib_217        = param(60,  10,     range=(0,200)),\n",
    "        A_planck         = param(1,   0.0025, range=(0.9,1.1), gaussian_prior=(1,0.0025)),\n",
    "        A_sz             = param(5,   3,      range=(0,10)),\n",
    "        calib_100T       = param(1,   0.001,  range=(0,3),     gaussian_prior=(0.999,0.001)),\n",
    "        calib_217T       = param(1,   0.002,  range=(0,3),     gaussian_prior=(0.995,0.002)),\n",
    "        cib_index        = -1.3,   \n",
    "        gal545_A_100     = param(7,   2,      range=(0,50),    gaussian_prior=(7,2)),\n",
    "        gal545_A_143     = param(9,   2,      range=(0,50),    gaussian_prior=(9,2)),\n",
    "        gal545_A_143_217 = param(21,  8.5,    range=(0,100),   gaussian_prior=(21,8.5)),\n",
    "        gal545_A_217     = param(80,  20,     range=(0,400),   gaussian_prior=(80,20)),\n",
    "        ksz_norm         = param(2,   3,      range=(0,10)),\n",
    "        ps_A_100_100     = param(250, 30,     range=(0,4000)),\n",
    "        ps_A_143_143     = param(45,  10,     range=(0,4000)),\n",
    "        ps_A_143_217     = param(40,  10,     range=(0,4000)),\n",
    "        ps_A_217_217     = param(90,  15,     range=(0,4000)),\n",
    "        xi_sz_cib        = param(0.5, 0.3,    range=(0,1)),\n",
    "    ):\n",
    "        super().__init__(**arguments())\n",
    "```"
   ]
  },
  {
   "cell_type": "markdown",
   "metadata": {},
   "source": [
    "As you can see, all the sampled parameters as automatically set, including ranges and priors. The script to use this likelihood is then extremely simple:"
   ]
  },
  {
   "cell_type": "code",
   "execution_count": 8,
   "metadata": {
    "collapsed": true
   },
   "outputs": [],
   "source": [
    "class planck(SlikPlugin):\n",
    "\n",
    "    def __init__(self):\n",
    "        super().__init__()\n",
    "        \n",
    "        # load Planck clik file and set up nuisance parameters\n",
    "        self.clik = likelihoods.planck.planck_2015_highl_TT(\n",
    "            clik_file=\"plik_dx11dr2_HM_v18_TT.clik/\",\n",
    "        )\n",
    "        \n",
    "        # set up cosmological params and solver\n",
    "        self.cosmo = models.cosmology(\"lcdm\")\n",
    "        self.cmb = models.classy(lmax=3000)\n",
    "        \n",
    "        self.sampler = samplers.metropolis_hastings(self)\n",
    "\n",
    "    def __call__(self):\n",
    "        # compute likelihood\n",
    "        return self.clik(self.cmb(**self.cosmo))"
   ]
  },
  {
   "cell_type": "code",
   "execution_count": 9,
   "metadata": {
    "collapsed": false
   },
   "outputs": [
    {
     "data": {
      "text/plain": [
       "2672.4139027829988"
      ]
     },
     "execution_count": 9,
     "metadata": {},
     "output_type": "execute_result"
    }
   ],
   "source": [
    "s = Slik(planck())\n",
    "lnl, e = s.evaluate(**s.get_start())\n",
    "lnl"
   ]
  },
  {
   "cell_type": "markdown",
   "metadata": {},
   "source": [
    "## Common calibration parameters"
   ]
  },
  {
   "cell_type": "markdown",
   "metadata": {},
   "source": [
    "Despite that the Planck likelihood is broken up into different pieces, they sometimes share the same calibration parameters. To apply this correctly in your script, just define one single sampled calibration parameter, then in your `__call__`, set it across all the different likelihoods. "
   ]
  },
  {
   "cell_type": "code",
   "execution_count": 10,
   "metadata": {
    "collapsed": true
   },
   "outputs": [],
   "source": [
    "class planck(SlikPlugin):\n",
    "\n",
    "    def __init__(self):\n",
    "        super().__init__()\n",
    "        \n",
    "        # set up low and high L likelihood\n",
    "        self.highl = likelihoods.planck.planck_2015_highl_TT(\n",
    "            clik_file=\"plik_dx11dr2_HM_v18_TT.clik/\",\n",
    "        )\n",
    "        self.lowl = likelihoods.planck.planck_2015_lowl_TT(\n",
    "            clik_file=\"commander_rc2_v1.1_l2_29_B.clik/\",\n",
    "            A_planck=None, #turn off this cal parameter, use the one from self.highl\n",
    "        )\n",
    "        \n",
    "        # set up cosmological params and solver\n",
    "        self.cosmo = models.cosmology(\"lcdm\")\n",
    "        self.cmb = models.classy(lmax=3000)\n",
    "        \n",
    "        self.sampler = samplers.metropolis_hastings(self)\n",
    "\n",
    "    def __call__(self):\n",
    "        # set the calibration parameters the same\n",
    "        self.lowl.A_planck = self.highl.A_planck \n",
    "        \n",
    "        # compute likelihood\n",
    "        cmb = self.cmb(**self.cosmo)\n",
    "        return self.lowl(cmb) + self.highl(cmb)"
   ]
  }
 ],
 "metadata": {
  "kernelspec": {
   "display_name": "Python 3",
   "language": "python",
   "name": "python3"
  },
  "language_info": {
   "codemirror_mode": {
    "name": "ipython",
    "version": 3
   },
   "file_extension": ".py",
   "mimetype": "text/x-python",
   "name": "python",
   "nbconvert_exporter": "python",
   "pygments_lexer": "ipython3",
   "version": "3.5.2"
  }
 },
 "nbformat": 4,
 "nbformat_minor": 0
}
