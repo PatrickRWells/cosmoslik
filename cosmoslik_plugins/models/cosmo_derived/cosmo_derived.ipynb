{
 "metadata": {
  "name": "",
  "signature": "sha256:d74880ba08230ca4ea07a21d3380faba9dd665920fe22c1fb0f226e12888997a"
 },
 "nbformat": 3,
 "nbformat_minor": 0,
 "worksheets": [
  {
   "cells": [
    {
     "cell_type": "heading",
     "level": 1,
     "metadata": {},
     "source": [
      "cosmo_derived"
     ]
    },
    {
     "cell_type": "markdown",
     "metadata": {},
     "source": [
      "This plugin calculates the following \"derived\" cosmological quantities:\n",
      "* $H(z)$\n",
      "* $D_A(z)$\n",
      "* $r_s(z)$\n",
      "\n",
      "Credit: Lloyd Knox, code adapted by Marius Millea"
     ]
    },
    {
     "cell_type": "code",
     "collapsed": false,
     "input": [
      "from cosmoslik import *"
     ],
     "language": "python",
     "metadata": {},
     "outputs": [],
     "prompt_number": 1
    },
    {
     "cell_type": "code",
     "collapsed": false,
     "input": [
      "cosmo_derived = get_plugin('models.cosmo_derived')()"
     ],
     "language": "python",
     "metadata": {},
     "outputs": [],
     "prompt_number": 2
    },
    {
     "cell_type": "markdown",
     "metadata": {},
     "source": [
      "To use `cosmo_derived`, first call the `set_params` function to set all the cosmological parameters, then call the other functions which will subsequently use those values,"
     ]
    },
    {
     "cell_type": "code",
     "collapsed": false,
     "input": [
      "help(cosmo_derived.set_params)"
     ],
     "language": "python",
     "metadata": {},
     "outputs": [
      {
       "output_type": "stream",
       "stream": "stdout",
       "text": [
        "Help on built-in function set_params:\n",
        "\n",
        "set_params(...)\n",
        "    _cosmo_derived.set_params(self, H0=None, ombh2=None, omch2=None, omk=None, mnu=None, Nnu_massive=None, Nnu_massless=None, Yp=None, **kwargs)\n",
        "    \n",
        "    Args:\n",
        "        H0 : hubble constant today in km/s/Mpc\n",
        "        ombh2, omch2, omk : densities today\n",
        "        mnu : neutrino mass sum in eV\n",
        "        Nnu_massive : number of massive species (mnu divided equally among them)\n",
        "        Nnu_massless : number of massless species\n",
        "\n"
       ]
      }
     ],
     "prompt_number": 32
    },
    {
     "cell_type": "code",
     "collapsed": false,
     "input": [
      "cosmo_derived.set_params(H0=70, ombh2=0.025, omch2=0.11, omk=0, mnu=0.5, Nnu_massive=1, Nnu_massless=2.046)"
     ],
     "language": "python",
     "metadata": {},
     "outputs": [],
     "prompt_number": 24
    },
    {
     "cell_type": "markdown",
     "metadata": {},
     "source": [
      "Plotting $H(z)$,"
     ]
    },
    {
     "cell_type": "code",
     "collapsed": false,
     "input": [
      "z=logspace(-2,6)\n",
      "loglog(z,array(map(cosmo_derived.Hubble,z))/3.33565e-6)\n",
      "xlabel(r'$z$',size=16)\n",
      "ylabel(r'$H(z) \\, [\\rm km/s/Mpc]$',size=16);"
     ],
     "language": "python",
     "metadata": {},
     "outputs": [
      {
       "metadata": {},
       "output_type": "display_data",
       "png": "[encoded data removed]",
       "text": [
        "<matplotlib.figure.Figure at 0x7f3e0bfb7490>"
       ]
      }
     ],
     "prompt_number": 29
    },
    {
     "cell_type": "markdown",
     "metadata": {},
     "source": [
      "Angular size of sound horizon at $z=1100$,"
     ]
    },
    {
     "cell_type": "code",
     "collapsed": false,
     "input": [
      "cosmo_derived.r_s(1100) / cosmo_derived.D_A(1100)"
     ],
     "language": "python",
     "metadata": {},
     "outputs": [
      {
       "metadata": {},
       "output_type": "pyout",
       "prompt_number": 28,
       "text": [
        "0.010833060693816598"
       ]
      }
     ],
     "prompt_number": 28
    },
    {
     "cell_type": "code",
     "collapsed": false,
     "input": [],
     "language": "python",
     "metadata": {},
     "outputs": []
    }
   ],
   "metadata": {}
  }
 ]
}